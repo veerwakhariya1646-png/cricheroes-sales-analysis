{
 "cells": [
  {
   "cell_type": "markdown",
   "id": "91335e12",
   "metadata": {},
   "source": [
    "# CricHeroes 2023 Sales Analysis"
   ]
  },
  {
   "cell_type": "code",
   "execution_count": null,
   "id": "545d367c",
   "metadata": {},
   "outputs": [],
   "source": [
    "import pandas as pd\n",
    "import numpy as np\n",
    "import matplotlib.pyplot as plt\n",
    "\n",
    "df = pd.read_excel('CricHeroes_Sales_2023.xlsx')\n",
    "month_order = ['Jan','Feb','Mar','Apr','May','Jun','Jul','Aug','Sep','Oct','Nov','Dec']\n",
    "df['Month'] = pd.Categorical(df['Month'], categories=month_order, ordered=True)\n",
    "df = df.sort_values('Month')\n",
    "\n",
    "df['ARPU_INR'] = (df['Total_Revenue_INR'] / df['Registered_Users']).round(2)\n",
    "df['CAC_INR'] = (df['Marketing_Spend_INR'] / df['Registered_Users']).round(2)\n",
    "df['ROI'] = (df['Total_Revenue_INR'] / df['Marketing_Spend_INR']).round(2)\n",
    "\n",
    "df.head()"
   ]
  },
  {
   "cell_type": "markdown",
   "id": "ba617cfb",
   "metadata": {},
   "source": [
    "## Monthly Total Revenue"
   ]
  },
  {
   "cell_type": "code",
   "execution_count": null,
   "id": "0a7f2320",
   "metadata": {},
   "outputs": [],
   "source": [
    "plt.figure(figsize=(10,5))\n",
    "plt.plot(df['Month'], df['Total_Revenue_INR'], marker='o')\n",
    "plt.title('Monthly Total Revenue (INR) - 2023')\n",
    "plt.xlabel('Month')\n",
    "plt.ylabel('Total Revenue (INR)')\n",
    "plt.tight_layout()\n",
    "plt.show()"
   ]
  },
  {
   "cell_type": "markdown",
   "id": "c42f3613",
   "metadata": {},
   "source": [
    "## Revenue Breakdown by Stream"
   ]
  },
  {
   "cell_type": "code",
   "execution_count": null,
   "id": "31206030",
   "metadata": {},
   "outputs": [],
   "source": [
    "import numpy as np\n",
    "plt.figure(figsize=(10,5))\n",
    "width = 0.25\n",
    "x = np.arange(len(df['Month']))\n",
    "plt.bar(x - width, df['Subscription_Revenue_INR'])\n",
    "plt.bar(x, df['Ad_Revenue_INR'])\n",
    "plt.bar(x + width, df['Marketplace_Sales_INR'])\n",
    "plt.xticks(x, df['Month'])\n",
    "plt.title('Revenue Breakdown by Stream - 2023')\n",
    "plt.xlabel('Month')\n",
    "plt.ylabel('Revenue (INR)')\n",
    "plt.tight_layout()\n",
    "plt.show()"
   ]
  },
  {
   "cell_type": "markdown",
   "id": "9b4db068",
   "metadata": {},
   "source": [
    "## Registered Users vs Paid Subscriptions"
   ]
  },
  {
   "cell_type": "code",
   "execution_count": null,
   "id": "25032c9a",
   "metadata": {},
   "outputs": [],
   "source": [
    "plt.figure(figsize=(10,5))\n",
    "plt.plot(df['Month'], df['Registered_Users'], marker='o')\n",
    "plt.plot(df['Month'], df['Paid_Subscriptions'], marker='o')\n",
    "plt.title('Registered Users vs Paid Subscriptions - 2023')\n",
    "plt.xlabel('Month')\n",
    "plt.ylabel('Count')\n",
    "plt.tight_layout()\n",
    "plt.show()"
   ]
  },
  {
   "cell_type": "markdown",
   "id": "df37a0e5",
   "metadata": {},
   "source": [
    "## Marketing ROI by Month"
   ]
  },
  {
   "cell_type": "code",
   "execution_count": null,
   "id": "a342ffc1",
   "metadata": {},
   "outputs": [],
   "source": [
    "plt.figure(figsize=(10,5))\n",
    "plt.bar(df['Month'], df['ROI'])\n",
    "plt.title('Marketing ROI by Month - 2023')\n",
    "plt.xlabel('Month')\n",
    "plt.ylabel('ROI (x)')\n",
    "plt.tight_layout()\n",
    "plt.show()"
   ]
  },
  {
   "cell_type": "markdown",
   "id": "85725491",
   "metadata": {},
   "source": [
    "## Retention Rate Trend"
   ]
  },
  {
   "cell_type": "code",
   "execution_count": null,
   "id": "7c9317f2",
   "metadata": {},
   "outputs": [],
   "source": [
    "plt.figure(figsize=(10,5))\n",
    "plt.plot(df['Month'], df['Retention_Rate_%'], marker='o')\n",
    "plt.title('Retention Rate (%) - 2023')\n",
    "plt.xlabel('Month')\n",
    "plt.ylabel('Retention Rate (%)')\n",
    "plt.tight_layout()\n",
    "plt.show()"
   ]
  }
 ],
 "metadata": {},
 "nbformat": 4,
 "nbformat_minor": 5
}
